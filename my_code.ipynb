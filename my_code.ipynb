{
 "cells": [
  {
   "cell_type": "code",
   "execution_count": 1,
   "metadata": {},
   "outputs": [],
   "source": [
    "import pandas as pd"
   ]
  },
  {
   "cell_type": "code",
   "execution_count": 4,
   "metadata": {},
   "outputs": [],
   "source": [
    "dtypes = {\n",
    "        'assists'           : 'uint8',\n",
    "        'boosts'            : 'uint8',\n",
    "        'damageDealt'       : 'float16',\n",
    "        'DBNOs'             : 'uint8',\n",
    "        'headshotKills'     : 'uint8', \n",
    "        'heals'             : 'uint8',    \n",
    "        'killPlace'         : 'uint8',    \n",
    "        'killPoints'        : 'uint16',    \n",
    "        'kills'             : 'uint8',    \n",
    "        'killStreaks'       : 'uint8',    \n",
    "        'longestKill'       : 'float16',\n",
    "        'matchDuration'     : 'uint8',\n",
    "        'maxPlace'          : 'uint8',    \n",
    "        'numGroups'         : 'uint8',    \n",
    "        'rankPoints'        : 'uint8',\n",
    "        'revives'           : 'uint8',    \n",
    "        'rideDistance'      : 'float16',    \n",
    "        'roadKills'         : 'uint8',    \n",
    "        'swimDistance'      : 'float16',    \n",
    "        'teamKills'         : 'uint8',    \n",
    "        'vehicleDestroys'   : 'uint8',    \n",
    "        'walkDistance'      : 'float16',    \n",
    "        'weaponsAcquired'   : 'uint8',    \n",
    "        'winPoints'         : 'uint8', \n",
    "        'winPlacePerc'      : 'float16' \n",
    "}"
   ]
  },
  {
   "cell_type": "code",
   "execution_count": 5,
   "metadata": {},
   "outputs": [],
   "source": [
    "train = pd.read_csv(\"../train_V2.csv\",dtype=dtypes) # 데이터 절약을 위한 자료형\n",
    "test = pd.read_csv(\"../test_V2.csv\",dtype=dtypes)"
   ]
  },
  {
   "cell_type": "code",
   "execution_count": 6,
   "metadata": {},
   "outputs": [
    {
     "data": {
      "text/plain": [
       "Id                 0\n",
       "groupId            0\n",
       "matchId            0\n",
       "assists            0\n",
       "boosts             0\n",
       "damageDealt        0\n",
       "DBNOs              0\n",
       "headshotKills      0\n",
       "heals              0\n",
       "killPlace          0\n",
       "killPoints         0\n",
       "kills              0\n",
       "killStreaks        0\n",
       "longestKill        0\n",
       "matchDuration      0\n",
       "matchType          0\n",
       "maxPlace           0\n",
       "numGroups          0\n",
       "rankPoints         0\n",
       "revives            0\n",
       "rideDistance       0\n",
       "roadKills          0\n",
       "swimDistance       0\n",
       "teamKills          0\n",
       "vehicleDestroys    0\n",
       "walkDistance       0\n",
       "weaponsAcquired    0\n",
       "winPoints          0\n",
       "winPlacePerc       1\n",
       "dtype: int64"
      ]
     },
     "execution_count": 6,
     "metadata": {},
     "output_type": "execute_result"
    }
   ],
   "source": [
    "train.isna().sum()"
   ]
  },
  {
   "cell_type": "code",
   "execution_count": 7,
   "metadata": {},
   "outputs": [],
   "source": [
    "train = train.dropna()\n",
    "train = train.drop([\"Id\",\"groupId\",\"matchId\",\"matchType\"],axis=1)\n",
    "test = test.drop([\"Id\",\"groupId\",\"matchId\",\"matchType\"],axis=1)"
   ]
  },
  {
   "cell_type": "code",
   "execution_count": 8,
   "metadata": {},
   "outputs": [],
   "source": [
    "X = train.drop(\"winPlacePerc\",axis=1)\n",
    "y = train[\"winPlacePerc\"]"
   ]
  },
  {
   "cell_type": "code",
   "execution_count": null,
   "metadata": {},
   "outputs": [],
   "source": []
  }
 ],
 "metadata": {
  "kernelspec": {
   "display_name": "Python 3",
   "language": "python",
   "name": "python3"
  },
  "language_info": {
   "codemirror_mode": {
    "name": "ipython",
    "version": 3
   },
   "file_extension": ".py",
   "mimetype": "text/x-python",
   "name": "python",
   "nbconvert_exporter": "python",
   "pygments_lexer": "ipython3",
   "version": "3.8.5"
  },
  "toc": {
   "base_numbering": 1,
   "nav_menu": {},
   "number_sections": true,
   "sideBar": true,
   "skip_h1_title": false,
   "title_cell": "Table of Contents",
   "title_sidebar": "Contents",
   "toc_cell": false,
   "toc_position": {},
   "toc_section_display": true,
   "toc_window_display": false
  },
  "varInspector": {
   "cols": {
    "lenName": 16,
    "lenType": 16,
    "lenVar": 40
   },
   "kernels_config": {
    "python": {
     "delete_cmd_postfix": "",
     "delete_cmd_prefix": "del ",
     "library": "var_list.py",
     "varRefreshCmd": "print(var_dic_list())"
    },
    "r": {
     "delete_cmd_postfix": ") ",
     "delete_cmd_prefix": "rm(",
     "library": "var_list.r",
     "varRefreshCmd": "cat(var_dic_list()) "
    }
   },
   "types_to_exclude": [
    "module",
    "function",
    "builtin_function_or_method",
    "instance",
    "_Feature"
   ],
   "window_display": false
  }
 },
 "nbformat": 4,
 "nbformat_minor": 4
}
