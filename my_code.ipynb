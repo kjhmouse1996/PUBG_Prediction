{
 "cells": [
  {
   "cell_type": "markdown",
   "metadata": {},
   "source": [
    "0.01385 1등\n",
    "0.01946 10등"
   ]
  },
  {
   "cell_type": "code",
   "execution_count": 1,
   "metadata": {},
   "outputs": [],
   "source": [
    "import pandas as pd\n",
    "import gc\n",
    "import numpy as np"
   ]
  },
  {
   "cell_type": "code",
   "execution_count": 2,
   "metadata": {},
   "outputs": [],
   "source": [
    "def reduce_mem_usage(df):\n",
    "    # iterate through all the columns of a dataframe and modify the data type\n",
    "    #   to reduce memory usage.        \n",
    "    \n",
    "    start_mem = df.memory_usage().sum() / 1024**2\n",
    "    print('Memory usage of dataframe is {:.2f} MB'.format(start_mem))\n",
    "\n",
    "    for col in df.columns:\n",
    "        col_type = df[col].dtype\n",
    "\n",
    "        if col_type != object:\n",
    "            c_min = df[col].min()\n",
    "            c_max = df[col].max()\n",
    "            if str(col_type)[:3] == 'int':\n",
    "                if c_min > np.iinfo(np.int8).min and c_max < np.iinfo(np.int8).max:\n",
    "                    df[col] = df[col].astype(np.int8)\n",
    "                elif c_min > np.iinfo(np.int16).min and c_max < np.iinfo(np.int16).max:\n",
    "                    df[col] = df[col].astype(np.int16)\n",
    "                elif c_min > np.iinfo(np.int32).min and c_max < np.iinfo(np.int32).max:\n",
    "                    df[col] = df[col].astype(np.int32)\n",
    "                elif c_min > np.iinfo(np.int64).min and c_max < np.iinfo(np.int64).max:\n",
    "                    df[col] = df[col].astype(np.int64)  \n",
    "            else:\n",
    "                if c_min > np.finfo(np.float16).min and c_max < np.finfo(np.float16).max:\n",
    "                    df[col] = df[col].astype(np.float16)\n",
    "                elif c_min > np.finfo(np.float32).min and c_max < np.finfo(np.float32).max:\n",
    "                    df[col] = df[col].astype(np.float32)\n",
    "                else:\n",
    "                    df[col] = df[col].astype(np.float64)\n",
    "\n",
    "    end_mem = df.memory_usage().sum() / 1024**2\n",
    "    print('Memory usage after optimization is: {:.2f} MB'.format(end_mem))\n",
    "    print('Decreased by {:.1f}%'.format(100 * (start_mem - end_mem) / start_mem))\n",
    "\n",
    "    return df"
   ]
  },
  {
   "cell_type": "code",
   "execution_count": 3,
   "metadata": {},
   "outputs": [],
   "source": [
    "def featureModify(isTrain):\n",
    "    if isTrain:\n",
    "        all_data = pd.read_csv('../train_V2.csv') \n",
    "        all_data = all_data[all_data['maxPlace'] > 1]\n",
    "        all_data = reduce_mem_usage(all_data)\n",
    "        all_data = all_data[all_data['winPlacePerc'].notnull()]\n",
    "    else:\n",
    "        all_data = pd.read_csv('../test_V2.csv')\n",
    "\n",
    "\n",
    "    all_data['matchType'] = all_data['matchType'].map({\n",
    "    'crashfpp':1,\n",
    "    'crashtpp':2,\n",
    "    'duo':3,\n",
    "    'duo-fpp':4,\n",
    "    'flarefpp':5,\n",
    "    'flaretpp':6,\n",
    "    'normal-duo':7,\n",
    "    'normal-duo-fpp':8,\n",
    "    'normal-solo':9,\n",
    "    'normal-solo-fpp':10,\n",
    "    'normal-squad':11,\n",
    "    'normal-squad-fpp':12,\n",
    "    'solo':13,\n",
    "    'solo-fpp':14,\n",
    "    'squad':15,\n",
    "    'squad-fpp':16\n",
    "    })\n",
    "    all_data = reduce_mem_usage(all_data)\n",
    "\n",
    "    print(\"Match size\")\n",
    "    matchSizeData = all_data.groupby(['matchId']).size().reset_index(name='matchSize')\n",
    "    all_data = pd.merge(all_data, matchSizeData, how='left', on=['matchId'])\n",
    "    del matchSizeData\n",
    "    gc.collect()\n",
    "    \n",
    "    \n",
    "    all_data.loc[(all_data['rankPoints']==-1), 'rankPoints'] = 0\n",
    "    all_data['_killPoints_rankpoints'] = all_data['rankPoints']+all_data['killPoints']\n",
    "\n",
    "\n",
    "    all_data[\"_Kill_headshot_Ratio\"] = all_data[\"kills\"]/all_data[\"headshotKills\"]\n",
    "    all_data['_killStreak_Kill_ratio'] = all_data['killStreaks']/all_data['kills']\n",
    "    all_data['_totalDistance'] = 0.25*all_data['rideDistance'] + all_data[\"walkDistance\"] + all_data[\"swimDistance\"]\n",
    "    all_data['_killPlace_MaxPlace_Ratio'] = all_data['killPlace'] / all_data['maxPlace']\n",
    "    all_data['_totalDistance_weaponsAcq_Ratio'] = all_data['_totalDistance'] / all_data['weaponsAcquired']\n",
    "    all_data['_walkDistance_heals_Ratio'] = all_data['walkDistance'] / all_data['heals']\n",
    "    all_data['_walkDistance_kills_Ratio'] = all_data['walkDistance'] / all_data['kills']\n",
    "    all_data['_kills_walkDistance_Ratio'] = all_data['kills'] / all_data['walkDistance']\n",
    "    all_data['_totalDistancePerDuration'] =  all_data[\"_totalDistance\"]/all_data[\"matchDuration\"]\n",
    "    all_data['_killPlace_kills_Ratio'] = all_data['killPlace']/all_data['kills']\n",
    "    all_data['_walkDistancePerDuration'] =  all_data[\"walkDistance\"]/all_data[\"matchDuration\"]\n",
    "    all_data['walkDistancePerc'] = all_data.groupby('matchId')['walkDistance'].rank(pct=True).values\n",
    "    all_data['killPerc'] = all_data.groupby('matchId')['kills'].rank(pct=True).values\n",
    "    all_data['killPlacePerc'] = all_data.groupby('matchId')['killPlace'].rank(pct=True).values\n",
    "    all_data['weaponsAcquired'] = all_data.groupby('matchId')['weaponsAcquired'].rank(pct=True).values\n",
    "    all_data['_walkDistance_kills_Ratio2'] = all_data['walkDistancePerc'] / all_data['killPerc']\n",
    "    all_data['_kill_kills_Ratio2'] = all_data['killPerc']/all_data['walkDistancePerc']\n",
    "    all_data['_killPlace_walkDistance_Ratio2'] = all_data['walkDistancePerc']/all_data['killPlacePerc']\n",
    "    all_data['_killPlace_kills_Ratio2'] = all_data['killPlacePerc']/all_data['killPerc']\n",
    "    all_data['_totalDistance'] = all_data.groupby('matchId')['_totalDistance'].rank(pct=True).values\n",
    "    all_data['_walkDistance_kills_Ratio3'] = all_data['walkDistancePerc'] / all_data['kills']\n",
    "    all_data['_walkDistance_kills_Ratio4'] = all_data['kills'] / all_data['walkDistancePerc']\n",
    "    all_data['_walkDistance_kills_Ratio5'] = all_data['killPerc'] / all_data['walkDistance']\n",
    "    all_data['_walkDistance_kills_Ratio6'] = all_data['walkDistance'] / all_data['killPerc']\n",
    "\n",
    "    all_data[all_data == np.Inf] = np.NaN\n",
    "    all_data[all_data == np.NINF] = np.NaN\n",
    "    all_data.fillna(0, inplace=True)\n",
    "    \n",
    "    features = list(all_data.columns)\n",
    "    features.remove(\"Id\")\n",
    "    features.remove(\"matchId\")\n",
    "    features.remove(\"groupId\")\n",
    "    features.remove(\"matchSize\")\n",
    "    features.remove(\"matchType\")\n",
    "    if isTrain:\n",
    "        features.remove(\"winPlacePerc\")\n",
    "\n",
    "    \n",
    "    print(\"Mean Data\")\n",
    "    meanData = all_data.groupby(['matchId','groupId'])[features].agg('mean')\n",
    "    meanData = reduce_mem_usage(meanData)\n",
    "    meanData = meanData.replace([np.inf, np.NINF,np.nan], 0)\n",
    "    meanDataRank = meanData.groupby('matchId')[features].rank(pct=True).reset_index()\n",
    "    meanDataRank = reduce_mem_usage(meanDataRank)\n",
    "    all_data = pd.merge(all_data, meanData.reset_index(), suffixes=[\"\", \"_mean\"], how='left', on=['matchId', 'groupId'])\n",
    "    del meanData\n",
    "    gc.collect()\n",
    "    all_data = all_data.drop([\"vehicleDestroys_mean\",\"rideDistance_mean\",\"roadKills_mean\",\"rankPoints_mean\"], axis=1)\n",
    "    all_data = pd.merge(all_data, meanDataRank, suffixes=[\"\", \"_meanRank\"], how='left', on=['matchId', 'groupId'])\n",
    "    del meanDataRank\n",
    "    gc.collect()\n",
    "    all_data = all_data.drop([\"numGroups_meanRank\",\"rankPoints_meanRank\"], axis=1)\n",
    "    \n",
    "    all_data = all_data.join(reduce_mem_usage(all_data.groupby('matchId')[features].rank(ascending=False).add_suffix('_rankPlace').astype(int)))\n",
    "\n",
    "    \n",
    "    print(\"Std Data\")\n",
    "    stdData = all_data.groupby(['matchId','groupId'])[features].agg('std').replace([np.inf, np.NINF,np.nan], 0)\n",
    "    stdDataRank = reduce_mem_usage(stdData.groupby('matchId')[features].rank(pct=True)).reset_index()\n",
    "    del stdData\n",
    "    gc.collect()\n",
    "    all_data = pd.merge(all_data, stdDataRank, suffixes=[\"\", \"_stdRank\"], how='left', on=['matchId', 'groupId'])\n",
    "    del stdDataRank\n",
    "    gc.collect()\n",
    "    \n",
    "    print(\"Max Data\")\n",
    "    maxData = all_data.groupby(['matchId','groupId'])[features].agg('max')\n",
    "    maxData = reduce_mem_usage(maxData)\n",
    "    maxDataRank = maxData.groupby('matchId')[features].rank(pct=True).reset_index()\n",
    "    maxDataRank = reduce_mem_usage(maxDataRank)\n",
    "    all_data = pd.merge(all_data, maxData.reset_index(), suffixes=[\"\", \"_max\"], how='left', on=['matchId', 'groupId'])\n",
    "    del maxData\n",
    "    gc.collect()\n",
    "    all_data = all_data.drop([\"assists_max\",\"killPoints_max\",\"headshotKills_max\",\"numGroups_max\",\"revives_max\",\"teamKills_max\",\"roadKills_max\",\"vehicleDestroys_max\"], axis=1)\n",
    "    all_data = pd.merge(all_data, maxDataRank, suffixes=[\"\", \"_maxRank\"], how='left', on=['matchId', 'groupId'])\n",
    "    del maxDataRank\n",
    "    gc.collect()\n",
    "    all_data = all_data.drop([\"roadKills_maxRank\",\"matchDuration_maxRank\",\"maxPlace_maxRank\",\"numGroups_maxRank\"], axis=1)\n",
    "\n",
    "\n",
    "    print(\"Min Data\")\n",
    "    minData = all_data.groupby(['matchId','groupId'])[features].agg('min')\n",
    "    minData = reduce_mem_usage(minData)\n",
    "    minDataRank = minData.groupby('matchId')[features].rank(pct=True).reset_index()\n",
    "    minDataRank = reduce_mem_usage(minDataRank)\n",
    "    all_data = pd.merge(all_data, minData.reset_index(), suffixes=[\"\", \"_min\"], how='left', on=['matchId', 'groupId'])\n",
    "    del minData\n",
    "    gc.collect()\n",
    "    all_data = all_data.drop([\"heals_min\",\"killStreaks_min\",\"killPoints_min\",\"maxPlace_min\",\"revives_min\",\"headshotKills_min\",\"weaponsAcquired_min\",\"_walkDistance_kills_Ratio_min\",\"rankPoints_min\",\"matchDuration_min\",\"teamKills_min\",\"numGroups_min\",\"assists_min\",\"roadKills_min\",\"vehicleDestroys_min\"], axis=1)\n",
    "    all_data = pd.merge(all_data, minDataRank, suffixes=[\"\", \"_minRank\"], how='left', on=['matchId', 'groupId'])\n",
    "    del minDataRank\n",
    "    gc.collect()\n",
    "    all_data = all_data.drop([\"killPoints_minRank\",\"matchDuration_minRank\",\"maxPlace_minRank\",\"numGroups_minRank\"], axis=1)\n",
    "\n",
    "    \n",
    "    print(\"group Size\")\n",
    "    groupSize = all_data.groupby(['matchId','groupId']).size().reset_index(name='group_size')\n",
    "    groupSize = reduce_mem_usage(groupSize)\n",
    "    all_data = pd.merge(all_data, groupSize, how='left', on=['matchId', 'groupId'])\n",
    "    del groupSize\n",
    "    gc.collect()\n",
    "\n",
    "    \n",
    "    print(\"Match Mean\")\n",
    "    matchMeanFeatures = features\n",
    "    matchMeanFeatures = [ v for v in matchMeanFeatures if v not in [\"killPlacePerc\",\"matchDuration\",\"maxPlace\",\"numGroups\"] ]\n",
    "    matchMeanData= reduce_mem_usage(all_data.groupby(['matchId'])[matchMeanFeatures].transform('mean')).replace([np.inf, np.NINF,np.nan], 0)\n",
    "    all_data = pd.concat([all_data,matchMeanData.add_suffix('_matchMean')],axis=1)\n",
    "    del matchMeanData,matchMeanFeatures\n",
    "    gc.collect()\n",
    "\n",
    "    print(\"matchMax\")\n",
    "    matchMaxFeatures = [\"walkDistance\",\"kills\",\"_walkDistance_kills_Ratio\",\"_kill_kills_Ratio2\"]\n",
    "    all_data = pd.merge(all_data, reduce_mem_usage(all_data.groupby(['matchId'])[matchMaxFeatures].agg('max')).reset_index(), suffixes=[\"\", \"_matchMax\"], how='left', on=['matchId'])\n",
    "\n",
    "    print(\"match STD\")\n",
    "    matchMaxFeatures = [\"kills\",\"_walkDistance_kills_Ratio2\",\"_walkDistance_kills_Ratio\",\"killPerc\",\"_kills_walkDistance_Ratio\"]\n",
    "    all_data = pd.merge(all_data, reduce_mem_usage(all_data.groupby(['matchId'])[matchMaxFeatures].agg('std')).reset_index().replace([np.inf, np.NINF,np.nan], 0), suffixes=[\"\", \"_matchSTD\"], how='left', on=['matchId'])\n",
    "\n",
    "\n",
    "    all_data = all_data.drop([\"Id\",\"groupId\"], axis=1)\n",
    "    all_data = all_data.drop([\"DBNOs\",\"assists\",\"headshotKills\",\"heals\",\"killPoints\",\"_killStreak_Kill_ratio\",\"killStreaks\",\"longestKill\",\"revives\",\"roadKills\",\"teamKills\",\"vehicleDestroys\",\"_walkDistance_kills_Ratio\",\"weaponsAcquired\"], axis=1)\n",
    "    all_data = all_data.drop([\"_walkDistance_heals_Ratio\",\"_totalDistancePerDuration\",\"_killPlace_kills_Ratio\",\"_totalDistance_weaponsAcq_Ratio\",\"_killPlace_MaxPlace_Ratio\",\"_walkDistancePerDuration\",\"rankPoints\",\"rideDistance\",\"boosts\",\"winPoints\",\"swimDistance\",\"_kills_walkDistance_Ratio\"], axis=1)\n",
    "    all_data = all_data.drop([\"_Kill_headshot_Ratio\",\"maxPlace\",\"_totalDistance\",\"numGroups\",\"walkDistance\",\"killPlace\"], axis=1)\n",
    "    all_data = reduce_mem_usage(all_data)\n",
    "    gc.collect()\n",
    "    \n",
    "    print(\"done\")\n",
    "    features_label = all_data.columns\n",
    "    features_label = features_label.drop('matchId')\n",
    "    if isTrain:\n",
    "        features_label = features_label.drop('winPlacePerc')\n",
    "\n",
    "    gc.collect()\n",
    "    return all_data,features_label"
   ]
  },
  {
   "cell_type": "code",
   "execution_count": 4,
   "metadata": {},
   "outputs": [
    {
     "name": "stdout",
     "output_type": "stream",
     "text": [
      "Memory usage of dataframe is 1017.83 MB\n",
      "Memory usage after optimization is: 322.31 MB\n",
      "Decreased by 68.3%\n",
      "Memory usage of dataframe is 322.31 MB\n",
      "Memory usage after optimization is: 292.63 MB\n",
      "Decreased by 9.2%\n",
      "Match size\n",
      "Mean Data\n",
      "Memory usage of dataframe is 642.07 MB\n",
      "Memory usage after optimization is: 216.85 MB\n",
      "Decreased by 66.2%\n",
      "Memory usage of dataframe is 757.68 MB\n",
      "Memory usage after optimization is: 212.61 MB\n",
      "Decreased by 71.9%\n",
      "Memory usage of dataframe is 831.23 MB\n",
      "Memory usage after optimization is: 233.25 MB\n",
      "Decreased by 71.9%\n",
      "Std Data\n",
      "Memory usage of dataframe is 758.04 MB\n",
      "Memory usage after optimization is: 212.98 MB\n",
      "Decreased by 71.9%\n",
      "Max Data\n",
      "Memory usage of dataframe is 394.67 MB\n",
      "Memory usage after optimization is: 189.79 MB\n",
      "Decreased by 51.9%\n",
      "Memory usage of dataframe is 757.68 MB\n",
      "Memory usage after optimization is: 212.61 MB\n",
      "Decreased by 71.9%\n",
      "Min Data\n",
      "Memory usage of dataframe is 394.67 MB\n",
      "Memory usage after optimization is: 189.79 MB\n",
      "Decreased by 51.9%\n",
      "Memory usage of dataframe is 757.68 MB\n",
      "Memory usage after optimization is: 212.61 MB\n",
      "Decreased by 71.9%\n",
      "group Size\n",
      "Memory usage of dataframe is 46.39 MB\n",
      "Memory usage after optimization is: 32.86 MB\n",
      "Decreased by 29.2%\n",
      "Match Mean\n",
      "Memory usage of dataframe is 1238.36 MB\n",
      "Memory usage after optimization is: 398.65 MB\n",
      "Decreased by 67.8%\n",
      "matchMax\n",
      "Memory usage of dataframe is 0.96 MB\n",
      "Memory usage after optimization is: 0.69 MB\n",
      "Decreased by 28.6%\n",
      "match STD\n",
      "Memory usage of dataframe is 2.20 MB\n",
      "Memory usage after optimization is: 0.82 MB\n",
      "Decreased by 62.5%\n",
      "Memory usage of dataframe is 3613.29 MB\n",
      "Memory usage after optimization is: 3312.19 MB\n",
      "Decreased by 8.3%\n",
      "done\n",
      "Split time\n"
     ]
    }
   ],
   "source": [
    "X_train,features_label = featureModify(True) \n",
    "\n",
    "print(\"Split time\")\n",
    "def split_train_val(data, fraction):\n",
    "    matchIds = data['matchId'].unique().reshape([-1])\n",
    "    train_size = int(len(matchIds)*fraction)\n",
    "    \n",
    "    random_idx = np.random.RandomState(seed=2).permutation(len(matchIds))\n",
    "    train_matchIds = matchIds[random_idx[:train_size]]\n",
    "    val_matchIds = matchIds[random_idx[train_size:]]\n",
    "    \n",
    "    data_train = data.loc[data['matchId'].isin(train_matchIds)]\n",
    "    data_val = data.loc[data['matchId'].isin(val_matchIds)]\n",
    "    return data_train, data_val"
   ]
  },
  {
   "cell_type": "code",
   "execution_count": 5,
   "metadata": {},
   "outputs": [
    {
     "name": "stdout",
     "output_type": "stream",
     "text": [
      "Y time\n",
      "X_train time\n",
      "X test train time\n",
      "X test train winPlace remove\n",
      "X test np time\n",
      "y test np time\n"
     ]
    }
   ],
   "source": [
    "# Split the Data by matchId.\n",
    "X_train, X_train_test = split_train_val(X_train, 0.91)\n",
    "print(\"Y time\")\n",
    "y = X_train['winPlacePerc']\n",
    "y_test = X_train_test['winPlacePerc']\n",
    "print(\"X_train time\")\n",
    "X_train = X_train.drop(columns=['matchId', 'winPlacePerc'])\n",
    "print(\"X test train time\")\n",
    "X_train_test = X_train_test.drop(columns='matchId')\n",
    "print(\"X test train winPlace remove\")\n",
    "X_train_test = X_train_test.drop(columns='winPlacePerc')\n",
    "\n",
    "print(\"X test np time\")\n",
    "X_train_test = np.array(X_train_test)\n",
    "print(\"y test np time\")\n",
    "y_test = np.array(y_test)"
   ]
  },
  {
   "cell_type": "code",
   "execution_count": 6,
   "metadata": {},
   "outputs": [
    {
     "name": "stdout",
     "output_type": "stream",
     "text": [
      "X_train np time\n",
      "y np time\n",
      "X_train2 np time\n",
      "y2 np time\n"
     ]
    },
    {
     "data": {
      "text/plain": [
       "0"
      ]
     },
     "execution_count": 6,
     "metadata": {},
     "output_type": "execute_result"
    }
   ],
   "source": [
    "#Split the Data again and then join it. I am doing this because If I turn the Pandas DataFrame into Numpy Array with \n",
    "# all rows at once, Kernel will be killed for exceeding 16GB Memory. \n",
    "from sklearn.model_selection import train_test_split\n",
    "X_train, X_train2, y, y2 = train_test_split(X_train, y, test_size=0.1, shuffle=False)\n",
    "print(\"X_train np time\")\n",
    "X_train = np.array(X_train)\n",
    "print(\"y np time\")\n",
    "y = np.array(y)\n",
    "\n",
    "print(\"X_train2 np time\")\n",
    "X_train2 = np.array(X_train2)\n",
    "print(\"y2 np time\")\n",
    "y2 = np.array(y2)\n",
    "\n",
    "y = np.concatenate((y, y2), axis=0)\n",
    "del y2\n",
    "gc.collect()\n",
    "X_train = np.concatenate((X_train, X_train2), axis=0)\n",
    "del X_train2\n",
    "gc.collect()"
   ]
  },
  {
   "cell_type": "code",
   "execution_count": 7,
   "metadata": {},
   "outputs": [],
   "source": [
    "from sklearn.linear_model import LinearRegression, Ridge, Lasso\n",
    "from sklearn.metrics import mean_squared_error"
   ]
  },
  {
   "cell_type": "code",
   "execution_count": 8,
   "metadata": {},
   "outputs": [
    {
     "data": {
      "text/plain": [
       "Lasso()"
      ]
     },
     "execution_count": 8,
     "metadata": {},
     "output_type": "execute_result"
    }
   ],
   "source": [
    "lr_reg = LinearRegression()\n",
    "lr_reg.fit(X_train, y)\n",
    "\n",
    "ridge_reg = Ridge()\n",
    "ridge_reg.fit(X_train, y)\n",
    "\n",
    "lasso_reg = Lasso()\n",
    "lasso_reg.fit(X_train, y)"
   ]
  },
  {
   "cell_type": "code",
   "execution_count": 9,
   "metadata": {},
   "outputs": [],
   "source": [
    "def get_rmse(model):\n",
    "    pred = model.predict(X_train_test)\n",
    "    mse = mean_squared_error(y_test , pred)\n",
    "    rmse = np.sqrt(mse)\n",
    "    print('{0} 로그 변환된 RMSE: {1}'.format(model.__class__.__name__,np.round(rmse, 3)))\n",
    "    return rmse\n",
    "\n",
    "def get_rmses(models):\n",
    "    rmses = [ ]\n",
    "    for model in models:\n",
    "        rmse = get_rmse(model)\n",
    "        rmses.append(rmse)\n",
    "    return rmses"
   ]
  },
  {
   "cell_type": "code",
   "execution_count": 10,
   "metadata": {},
   "outputs": [
    {
     "name": "stdout",
     "output_type": "stream",
     "text": [
      "LinearRegression 로그 변환된 RMSE: 0.05000000074505806\n",
      "Ridge 로그 변환된 RMSE: 0.04800000041723251\n",
      "Lasso 로그 변환된 RMSE: 0.12999999523162842\n"
     ]
    },
    {
     "data": {
      "text/plain": [
       "[0.04968881, 0.048239052, 0.12987678]"
      ]
     },
     "execution_count": 10,
     "metadata": {},
     "output_type": "execute_result"
    }
   ],
   "source": [
    "models = [lr_reg, ridge_reg, lasso_reg]\n",
    "get_rmses(models)"
   ]
  },
  {
   "cell_type": "code",
   "execution_count": null,
   "metadata": {},
   "outputs": [],
   "source": []
  },
  {
   "cell_type": "markdown",
   "metadata": {},
   "source": [
    "# Pycaret"
   ]
  },
  {
   "cell_type": "code",
   "execution_count": 11,
   "metadata": {},
   "outputs": [],
   "source": [
    "from pycaret.regression import *"
   ]
  },
  {
   "cell_type": "code",
   "execution_count": 12,
   "metadata": {},
   "outputs": [
    {
     "ename": "TypeError",
     "evalue": "data passed must be of type pandas.DataFrame",
     "output_type": "error",
     "traceback": [
      "\u001b[1;31m---------------------------------------------------------------------------\u001b[0m",
      "\u001b[1;31mTypeError\u001b[0m                                 Traceback (most recent call last)",
      "\u001b[1;32m<ipython-input-12-8c7933962ac6>\u001b[0m in \u001b[0;36m<module>\u001b[1;34m\u001b[0m\n\u001b[1;32m----> 1\u001b[1;33m \u001b[0msetup_clf\u001b[0m \u001b[1;33m=\u001b[0m \u001b[0msetup\u001b[0m\u001b[1;33m(\u001b[0m\u001b[0mdata\u001b[0m \u001b[1;33m=\u001b[0m \u001b[0mX_train\u001b[0m\u001b[1;33m,\u001b[0m \u001b[0mtarget\u001b[0m\u001b[1;33m=\u001b[0m \u001b[1;34m'winPlacePerc'\u001b[0m\u001b[1;33m,\u001b[0m \u001b[0mfold_shuffle\u001b[0m\u001b[1;33m=\u001b[0m\u001b[1;32mTrue\u001b[0m\u001b[1;33m)\u001b[0m\u001b[1;33m\u001b[0m\u001b[1;33m\u001b[0m\u001b[0m\n\u001b[0m",
      "\u001b[1;32m~\\AppData\\Roaming\\Python\\Python38\\site-packages\\pycaret\\regression.py\u001b[0m in \u001b[0;36msetup\u001b[1;34m(data, target, train_size, test_data, preprocess, imputation_type, iterative_imputation_iters, categorical_features, categorical_imputation, categorical_iterative_imputer, ordinal_features, high_cardinality_features, high_cardinality_method, numeric_features, numeric_imputation, numeric_iterative_imputer, date_features, ignore_features, normalize, normalize_method, transformation, transformation_method, handle_unknown_categorical, unknown_categorical_method, pca, pca_method, pca_components, ignore_low_variance, combine_rare_levels, rare_level_threshold, bin_numeric_features, remove_outliers, outliers_threshold, remove_multicollinearity, multicollinearity_threshold, remove_perfect_collinearity, create_clusters, cluster_iter, polynomial_features, polynomial_degree, trigonometry_features, polynomial_threshold, group_features, group_names, feature_selection, feature_selection_threshold, feature_selection_method, feature_interaction, feature_ratio, interaction_threshold, transform_target, transform_target_method, data_split_shuffle, data_split_stratify, fold_strategy, fold, fold_shuffle, fold_groups, n_jobs, use_gpu, custom_pipeline, html, session_id, log_experiment, experiment_name, log_plots, log_profile, log_data, silent, verbose, profile, profile_kwargs)\u001b[0m\n\u001b[0;32m    571\u001b[0m         \u001b[0mlog_plots\u001b[0m \u001b[1;33m=\u001b[0m \u001b[1;33m[\u001b[0m\u001b[1;34m\"residuals\"\u001b[0m\u001b[1;33m,\u001b[0m \u001b[1;34m\"error\"\u001b[0m\u001b[1;33m,\u001b[0m \u001b[1;34m\"feature\"\u001b[0m\u001b[1;33m]\u001b[0m\u001b[1;33m\u001b[0m\u001b[1;33m\u001b[0m\u001b[0m\n\u001b[0;32m    572\u001b[0m \u001b[1;33m\u001b[0m\u001b[0m\n\u001b[1;32m--> 573\u001b[1;33m     return pycaret.internal.tabular.setup(\n\u001b[0m\u001b[0;32m    574\u001b[0m         \u001b[0mml_usecase\u001b[0m\u001b[1;33m=\u001b[0m\u001b[1;34m\"regression\"\u001b[0m\u001b[1;33m,\u001b[0m\u001b[1;33m\u001b[0m\u001b[1;33m\u001b[0m\u001b[0m\n\u001b[0;32m    575\u001b[0m         \u001b[0mavailable_plots\u001b[0m\u001b[1;33m=\u001b[0m\u001b[0mavailable_plots\u001b[0m\u001b[1;33m,\u001b[0m\u001b[1;33m\u001b[0m\u001b[1;33m\u001b[0m\u001b[0m\n",
      "\u001b[1;32m~\\AppData\\Roaming\\Python\\Python38\\site-packages\\pycaret\\internal\\tabular.py\u001b[0m in \u001b[0;36msetup\u001b[1;34m(data, target, ml_usecase, available_plots, train_size, test_data, preprocess, imputation_type, iterative_imputation_iters, categorical_features, categorical_imputation, categorical_iterative_imputer, ordinal_features, high_cardinality_features, high_cardinality_method, numeric_features, numeric_imputation, numeric_iterative_imputer, date_features, ignore_features, normalize, normalize_method, transformation, transformation_method, handle_unknown_categorical, unknown_categorical_method, pca, pca_method, pca_components, ignore_low_variance, combine_rare_levels, rare_level_threshold, bin_numeric_features, remove_outliers, outliers_threshold, remove_multicollinearity, multicollinearity_threshold, remove_perfect_collinearity, create_clusters, cluster_iter, polynomial_features, polynomial_degree, trigonometry_features, polynomial_threshold, group_features, group_names, feature_selection, feature_selection_threshold, feature_selection_method, feature_interaction, feature_ratio, interaction_threshold, fix_imbalance, fix_imbalance_method, transform_target, transform_target_method, data_split_shuffle, data_split_stratify, fold_strategy, fold, fold_shuffle, fold_groups, n_jobs, use_gpu, custom_pipeline, html, session_id, log_experiment, experiment_name, log_plots, log_profile, log_data, silent, verbose, profile, profile_kwargs, display)\u001b[0m\n\u001b[0;32m    297\u001b[0m     \u001b[1;31m# checking data type\u001b[0m\u001b[1;33m\u001b[0m\u001b[1;33m\u001b[0m\u001b[1;33m\u001b[0m\u001b[0m\n\u001b[0;32m    298\u001b[0m     \u001b[1;32mif\u001b[0m \u001b[1;32mnot\u001b[0m \u001b[0misinstance\u001b[0m\u001b[1;33m(\u001b[0m\u001b[0mdata\u001b[0m\u001b[1;33m,\u001b[0m \u001b[0mpd\u001b[0m\u001b[1;33m.\u001b[0m\u001b[0mDataFrame\u001b[0m\u001b[1;33m)\u001b[0m\u001b[1;33m:\u001b[0m\u001b[1;33m\u001b[0m\u001b[1;33m\u001b[0m\u001b[0m\n\u001b[1;32m--> 299\u001b[1;33m         \u001b[1;32mraise\u001b[0m \u001b[0mTypeError\u001b[0m\u001b[1;33m(\u001b[0m\u001b[1;34mf\"data passed must be of type pandas.DataFrame\"\u001b[0m\u001b[1;33m)\u001b[0m\u001b[1;33m\u001b[0m\u001b[1;33m\u001b[0m\u001b[0m\n\u001b[0m\u001b[0;32m    300\u001b[0m     \u001b[1;32mif\u001b[0m \u001b[0mdata\u001b[0m\u001b[1;33m.\u001b[0m\u001b[0mshape\u001b[0m\u001b[1;33m[\u001b[0m\u001b[1;36m0\u001b[0m\u001b[1;33m]\u001b[0m \u001b[1;33m==\u001b[0m \u001b[1;36m0\u001b[0m\u001b[1;33m:\u001b[0m\u001b[1;33m\u001b[0m\u001b[1;33m\u001b[0m\u001b[0m\n\u001b[0;32m    301\u001b[0m         \u001b[1;32mraise\u001b[0m \u001b[0mValueError\u001b[0m\u001b[1;33m(\u001b[0m\u001b[1;34mf\"data passed must be a positive dataframe\"\u001b[0m\u001b[1;33m)\u001b[0m\u001b[1;33m\u001b[0m\u001b[1;33m\u001b[0m\u001b[0m\n",
      "\u001b[1;31mTypeError\u001b[0m: data passed must be of type pandas.DataFrame"
     ]
    }
   ],
   "source": [
    "setup_clf = setup(data = X_train, target= 'winPlacePerc', fold_shuffle=True)"
   ]
  },
  {
   "cell_type": "code",
   "execution_count": null,
   "metadata": {
    "scrolled": true
   },
   "outputs": [
    {
     "data": {
      "application/vnd.jupyter.widget-view+json": {
       "model_id": "43fb7e5ccb2945e2a75244df64cc0da0",
       "version_major": 2,
       "version_minor": 0
      },
      "text/plain": [
       "IntProgress(value=0, description='Processing: ', max=104)"
      ]
     },
     "metadata": {},
     "output_type": "display_data"
    },
    {
     "data": {
      "text/html": [
       "<div>\n",
       "<style scoped>\n",
       "    .dataframe tbody tr th:only-of-type {\n",
       "        vertical-align: middle;\n",
       "    }\n",
       "\n",
       "    .dataframe tbody tr th {\n",
       "        vertical-align: top;\n",
       "    }\n",
       "\n",
       "    .dataframe thead th {\n",
       "        text-align: right;\n",
       "    }\n",
       "</style>\n",
       "<table border=\"1\" class=\"dataframe\">\n",
       "  <thead>\n",
       "    <tr style=\"text-align: right;\">\n",
       "      <th></th>\n",
       "      <th></th>\n",
       "      <th></th>\n",
       "    </tr>\n",
       "    <tr>\n",
       "      <th></th>\n",
       "      <th></th>\n",
       "      <th></th>\n",
       "    </tr>\n",
       "  </thead>\n",
       "  <tbody>\n",
       "    <tr>\n",
       "      <th>Initiated</th>\n",
       "      <td>. . . . . . . . . . . . . . . . . .</td>\n",
       "      <td>20:15:47</td>\n",
       "    </tr>\n",
       "    <tr>\n",
       "      <th>Status</th>\n",
       "      <td>. . . . . . . . . . . . . . . . . .</td>\n",
       "      <td>Fitting 5 Folds</td>\n",
       "    </tr>\n",
       "    <tr>\n",
       "      <th>Estimator</th>\n",
       "      <td>. . . . . . . . . . . . . . . . . .</td>\n",
       "      <td>K Neighbors Regressor</td>\n",
       "    </tr>\n",
       "  </tbody>\n",
       "</table>\n",
       "</div>"
      ],
      "text/plain": [
       "                                                                     \n",
       "                                                                     \n",
       "Initiated  . . . . . . . . . . . . . . . . . .               20:15:47\n",
       "Status     . . . . . . . . . . . . . . . . . .        Fitting 5 Folds\n",
       "Estimator  . . . . . . . . . . . . . . . . . .  K Neighbors Regressor"
      ]
     },
     "metadata": {},
     "output_type": "display_data"
    },
    {
     "data": {
      "text/html": [
       "<style  type=\"text/css\" >\n",
       "    #T_9d4999ca_e4c1_11ec_b28a_7085c2294e08 th {\n",
       "          text-align: left;\n",
       "    }#T_9d4999ca_e4c1_11ec_b28a_7085c2294e08row0_col0,#T_9d4999ca_e4c1_11ec_b28a_7085c2294e08row0_col1,#T_9d4999ca_e4c1_11ec_b28a_7085c2294e08row0_col2,#T_9d4999ca_e4c1_11ec_b28a_7085c2294e08row0_col3,#T_9d4999ca_e4c1_11ec_b28a_7085c2294e08row0_col4,#T_9d4999ca_e4c1_11ec_b28a_7085c2294e08row0_col5,#T_9d4999ca_e4c1_11ec_b28a_7085c2294e08row0_col6,#T_9d4999ca_e4c1_11ec_b28a_7085c2294e08row0_col7,#T_9d4999ca_e4c1_11ec_b28a_7085c2294e08row1_col0,#T_9d4999ca_e4c1_11ec_b28a_7085c2294e08row1_col1,#T_9d4999ca_e4c1_11ec_b28a_7085c2294e08row1_col2,#T_9d4999ca_e4c1_11ec_b28a_7085c2294e08row1_col3,#T_9d4999ca_e4c1_11ec_b28a_7085c2294e08row1_col4,#T_9d4999ca_e4c1_11ec_b28a_7085c2294e08row1_col5,#T_9d4999ca_e4c1_11ec_b28a_7085c2294e08row1_col6,#T_9d4999ca_e4c1_11ec_b28a_7085c2294e08row1_col7,#T_9d4999ca_e4c1_11ec_b28a_7085c2294e08row2_col0,#T_9d4999ca_e4c1_11ec_b28a_7085c2294e08row2_col1,#T_9d4999ca_e4c1_11ec_b28a_7085c2294e08row2_col2,#T_9d4999ca_e4c1_11ec_b28a_7085c2294e08row2_col3,#T_9d4999ca_e4c1_11ec_b28a_7085c2294e08row2_col4,#T_9d4999ca_e4c1_11ec_b28a_7085c2294e08row2_col5,#T_9d4999ca_e4c1_11ec_b28a_7085c2294e08row2_col6,#T_9d4999ca_e4c1_11ec_b28a_7085c2294e08row2_col7,#T_9d4999ca_e4c1_11ec_b28a_7085c2294e08row3_col0,#T_9d4999ca_e4c1_11ec_b28a_7085c2294e08row3_col1,#T_9d4999ca_e4c1_11ec_b28a_7085c2294e08row3_col2,#T_9d4999ca_e4c1_11ec_b28a_7085c2294e08row3_col3,#T_9d4999ca_e4c1_11ec_b28a_7085c2294e08row3_col4,#T_9d4999ca_e4c1_11ec_b28a_7085c2294e08row3_col5,#T_9d4999ca_e4c1_11ec_b28a_7085c2294e08row3_col6,#T_9d4999ca_e4c1_11ec_b28a_7085c2294e08row3_col7,#T_9d4999ca_e4c1_11ec_b28a_7085c2294e08row4_col0,#T_9d4999ca_e4c1_11ec_b28a_7085c2294e08row4_col1,#T_9d4999ca_e4c1_11ec_b28a_7085c2294e08row4_col2,#T_9d4999ca_e4c1_11ec_b28a_7085c2294e08row4_col3,#T_9d4999ca_e4c1_11ec_b28a_7085c2294e08row4_col4,#T_9d4999ca_e4c1_11ec_b28a_7085c2294e08row4_col5,#T_9d4999ca_e4c1_11ec_b28a_7085c2294e08row4_col6,#T_9d4999ca_e4c1_11ec_b28a_7085c2294e08row4_col7,#T_9d4999ca_e4c1_11ec_b28a_7085c2294e08row5_col0,#T_9d4999ca_e4c1_11ec_b28a_7085c2294e08row5_col1,#T_9d4999ca_e4c1_11ec_b28a_7085c2294e08row5_col2,#T_9d4999ca_e4c1_11ec_b28a_7085c2294e08row5_col3,#T_9d4999ca_e4c1_11ec_b28a_7085c2294e08row5_col4,#T_9d4999ca_e4c1_11ec_b28a_7085c2294e08row5_col5,#T_9d4999ca_e4c1_11ec_b28a_7085c2294e08row5_col6,#T_9d4999ca_e4c1_11ec_b28a_7085c2294e08row5_col7,#T_9d4999ca_e4c1_11ec_b28a_7085c2294e08row6_col0,#T_9d4999ca_e4c1_11ec_b28a_7085c2294e08row6_col1,#T_9d4999ca_e4c1_11ec_b28a_7085c2294e08row6_col2,#T_9d4999ca_e4c1_11ec_b28a_7085c2294e08row6_col3,#T_9d4999ca_e4c1_11ec_b28a_7085c2294e08row6_col4,#T_9d4999ca_e4c1_11ec_b28a_7085c2294e08row6_col5,#T_9d4999ca_e4c1_11ec_b28a_7085c2294e08row6_col6,#T_9d4999ca_e4c1_11ec_b28a_7085c2294e08row6_col7,#T_9d4999ca_e4c1_11ec_b28a_7085c2294e08row7_col0,#T_9d4999ca_e4c1_11ec_b28a_7085c2294e08row7_col1,#T_9d4999ca_e4c1_11ec_b28a_7085c2294e08row7_col2,#T_9d4999ca_e4c1_11ec_b28a_7085c2294e08row7_col3,#T_9d4999ca_e4c1_11ec_b28a_7085c2294e08row7_col4,#T_9d4999ca_e4c1_11ec_b28a_7085c2294e08row7_col5,#T_9d4999ca_e4c1_11ec_b28a_7085c2294e08row7_col6,#T_9d4999ca_e4c1_11ec_b28a_7085c2294e08row7_col7,#T_9d4999ca_e4c1_11ec_b28a_7085c2294e08row8_col0,#T_9d4999ca_e4c1_11ec_b28a_7085c2294e08row8_col1,#T_9d4999ca_e4c1_11ec_b28a_7085c2294e08row8_col2,#T_9d4999ca_e4c1_11ec_b28a_7085c2294e08row8_col3,#T_9d4999ca_e4c1_11ec_b28a_7085c2294e08row8_col4,#T_9d4999ca_e4c1_11ec_b28a_7085c2294e08row8_col5,#T_9d4999ca_e4c1_11ec_b28a_7085c2294e08row8_col6,#T_9d4999ca_e4c1_11ec_b28a_7085c2294e08row8_col7,#T_9d4999ca_e4c1_11ec_b28a_7085c2294e08row9_col0,#T_9d4999ca_e4c1_11ec_b28a_7085c2294e08row9_col1,#T_9d4999ca_e4c1_11ec_b28a_7085c2294e08row9_col2,#T_9d4999ca_e4c1_11ec_b28a_7085c2294e08row9_col3,#T_9d4999ca_e4c1_11ec_b28a_7085c2294e08row9_col4,#T_9d4999ca_e4c1_11ec_b28a_7085c2294e08row9_col5,#T_9d4999ca_e4c1_11ec_b28a_7085c2294e08row9_col6,#T_9d4999ca_e4c1_11ec_b28a_7085c2294e08row9_col7{\n",
       "            text-align:  left;\n",
       "        }</style><table id=\"T_9d4999ca_e4c1_11ec_b28a_7085c2294e08\" ><thead>    <tr>        <th class=\"blank level0\" ></th>        <th class=\"col_heading level0 col0\" >Model</th>        <th class=\"col_heading level0 col1\" >MAE</th>        <th class=\"col_heading level0 col2\" >MSE</th>        <th class=\"col_heading level0 col3\" >RMSE</th>        <th class=\"col_heading level0 col4\" >R2</th>        <th class=\"col_heading level0 col5\" >RMSLE</th>        <th class=\"col_heading level0 col6\" >MAPE</th>        <th class=\"col_heading level0 col7\" >TT (Sec)</th>    </tr></thead><tbody>\n",
       "                <tr>\n",
       "                        <th id=\"T_9d4999ca_e4c1_11ec_b28a_7085c2294e08level0_row0\" class=\"row_heading level0 row0\" >lr</th>\n",
       "                        <td id=\"T_9d4999ca_e4c1_11ec_b28a_7085c2294e08row0_col0\" class=\"data row0 col0\" >Linear Regression</td>\n",
       "                        <td id=\"T_9d4999ca_e4c1_11ec_b28a_7085c2294e08row0_col1\" class=\"data row0 col1\" >0.0974</td>\n",
       "                        <td id=\"T_9d4999ca_e4c1_11ec_b28a_7085c2294e08row0_col2\" class=\"data row0 col2\" >0.0177</td>\n",
       "                        <td id=\"T_9d4999ca_e4c1_11ec_b28a_7085c2294e08row0_col3\" class=\"data row0 col3\" >0.1332</td>\n",
       "                        <td id=\"T_9d4999ca_e4c1_11ec_b28a_7085c2294e08row0_col4\" class=\"data row0 col4\" >0.8122</td>\n",
       "                        <td id=\"T_9d4999ca_e4c1_11ec_b28a_7085c2294e08row0_col5\" class=\"data row0 col5\" >0.0895</td>\n",
       "                        <td id=\"T_9d4999ca_e4c1_11ec_b28a_7085c2294e08row0_col6\" class=\"data row0 col6\" >0.4046</td>\n",
       "                        <td id=\"T_9d4999ca_e4c1_11ec_b28a_7085c2294e08row0_col7\" class=\"data row0 col7\" >2.4920</td>\n",
       "            </tr>\n",
       "            <tr>\n",
       "                        <th id=\"T_9d4999ca_e4c1_11ec_b28a_7085c2294e08level0_row1\" class=\"row_heading level0 row1\" >ridge</th>\n",
       "                        <td id=\"T_9d4999ca_e4c1_11ec_b28a_7085c2294e08row1_col0\" class=\"data row1 col0\" >Ridge Regression</td>\n",
       "                        <td id=\"T_9d4999ca_e4c1_11ec_b28a_7085c2294e08row1_col1\" class=\"data row1 col1\" >0.0974</td>\n",
       "                        <td id=\"T_9d4999ca_e4c1_11ec_b28a_7085c2294e08row1_col2\" class=\"data row1 col2\" >0.0177</td>\n",
       "                        <td id=\"T_9d4999ca_e4c1_11ec_b28a_7085c2294e08row1_col3\" class=\"data row1 col3\" >0.1332</td>\n",
       "                        <td id=\"T_9d4999ca_e4c1_11ec_b28a_7085c2294e08row1_col4\" class=\"data row1 col4\" >0.8122</td>\n",
       "                        <td id=\"T_9d4999ca_e4c1_11ec_b28a_7085c2294e08row1_col5\" class=\"data row1 col5\" >0.0895</td>\n",
       "                        <td id=\"T_9d4999ca_e4c1_11ec_b28a_7085c2294e08row1_col6\" class=\"data row1 col6\" >0.4046</td>\n",
       "                        <td id=\"T_9d4999ca_e4c1_11ec_b28a_7085c2294e08row1_col7\" class=\"data row1 col7\" >0.7060</td>\n",
       "            </tr>\n",
       "            <tr>\n",
       "                        <th id=\"T_9d4999ca_e4c1_11ec_b28a_7085c2294e08level0_row2\" class=\"row_heading level0 row2\" >lar</th>\n",
       "                        <td id=\"T_9d4999ca_e4c1_11ec_b28a_7085c2294e08row2_col0\" class=\"data row2 col0\" >Least Angle Regression</td>\n",
       "                        <td id=\"T_9d4999ca_e4c1_11ec_b28a_7085c2294e08row2_col1\" class=\"data row2 col1\" >0.0974</td>\n",
       "                        <td id=\"T_9d4999ca_e4c1_11ec_b28a_7085c2294e08row2_col2\" class=\"data row2 col2\" >0.0177</td>\n",
       "                        <td id=\"T_9d4999ca_e4c1_11ec_b28a_7085c2294e08row2_col3\" class=\"data row2 col3\" >0.1332</td>\n",
       "                        <td id=\"T_9d4999ca_e4c1_11ec_b28a_7085c2294e08row2_col4\" class=\"data row2 col4\" >0.8122</td>\n",
       "                        <td id=\"T_9d4999ca_e4c1_11ec_b28a_7085c2294e08row2_col5\" class=\"data row2 col5\" >0.0895</td>\n",
       "                        <td id=\"T_9d4999ca_e4c1_11ec_b28a_7085c2294e08row2_col6\" class=\"data row2 col6\" >0.4048</td>\n",
       "                        <td id=\"T_9d4999ca_e4c1_11ec_b28a_7085c2294e08row2_col7\" class=\"data row2 col7\" >0.7920</td>\n",
       "            </tr>\n",
       "            <tr>\n",
       "                        <th id=\"T_9d4999ca_e4c1_11ec_b28a_7085c2294e08level0_row3\" class=\"row_heading level0 row3\" >br</th>\n",
       "                        <td id=\"T_9d4999ca_e4c1_11ec_b28a_7085c2294e08row3_col0\" class=\"data row3 col0\" >Bayesian Ridge</td>\n",
       "                        <td id=\"T_9d4999ca_e4c1_11ec_b28a_7085c2294e08row3_col1\" class=\"data row3 col1\" >0.0974</td>\n",
       "                        <td id=\"T_9d4999ca_e4c1_11ec_b28a_7085c2294e08row3_col2\" class=\"data row3 col2\" >0.0177</td>\n",
       "                        <td id=\"T_9d4999ca_e4c1_11ec_b28a_7085c2294e08row3_col3\" class=\"data row3 col3\" >0.1332</td>\n",
       "                        <td id=\"T_9d4999ca_e4c1_11ec_b28a_7085c2294e08row3_col4\" class=\"data row3 col4\" >0.8122</td>\n",
       "                        <td id=\"T_9d4999ca_e4c1_11ec_b28a_7085c2294e08row3_col5\" class=\"data row3 col5\" >0.0895</td>\n",
       "                        <td id=\"T_9d4999ca_e4c1_11ec_b28a_7085c2294e08row3_col6\" class=\"data row3 col6\" >0.4046</td>\n",
       "                        <td id=\"T_9d4999ca_e4c1_11ec_b28a_7085c2294e08row3_col7\" class=\"data row3 col7\" >3.0700</td>\n",
       "            </tr>\n",
       "            <tr>\n",
       "                        <th id=\"T_9d4999ca_e4c1_11ec_b28a_7085c2294e08level0_row4\" class=\"row_heading level0 row4\" >en</th>\n",
       "                        <td id=\"T_9d4999ca_e4c1_11ec_b28a_7085c2294e08row4_col0\" class=\"data row4 col0\" >Elastic Net</td>\n",
       "                        <td id=\"T_9d4999ca_e4c1_11ec_b28a_7085c2294e08row4_col1\" class=\"data row4 col1\" >0.1191</td>\n",
       "                        <td id=\"T_9d4999ca_e4c1_11ec_b28a_7085c2294e08row4_col2\" class=\"data row4 col2\" >0.0234</td>\n",
       "                        <td id=\"T_9d4999ca_e4c1_11ec_b28a_7085c2294e08row4_col3\" class=\"data row4 col3\" >0.1531</td>\n",
       "                        <td id=\"T_9d4999ca_e4c1_11ec_b28a_7085c2294e08row4_col4\" class=\"data row4 col4\" >0.7520</td>\n",
       "                        <td id=\"T_9d4999ca_e4c1_11ec_b28a_7085c2294e08row4_col5\" class=\"data row4 col5\" >0.1046</td>\n",
       "                        <td id=\"T_9d4999ca_e4c1_11ec_b28a_7085c2294e08row4_col6\" class=\"data row4 col6\" >0.5704</td>\n",
       "                        <td id=\"T_9d4999ca_e4c1_11ec_b28a_7085c2294e08row4_col7\" class=\"data row4 col7\" >1.1300</td>\n",
       "            </tr>\n",
       "            <tr>\n",
       "                        <th id=\"T_9d4999ca_e4c1_11ec_b28a_7085c2294e08level0_row5\" class=\"row_heading level0 row5\" >omp</th>\n",
       "                        <td id=\"T_9d4999ca_e4c1_11ec_b28a_7085c2294e08row5_col0\" class=\"data row5 col0\" >Orthogonal Matching Pursuit</td>\n",
       "                        <td id=\"T_9d4999ca_e4c1_11ec_b28a_7085c2294e08row5_col1\" class=\"data row5 col1\" >0.1192</td>\n",
       "                        <td id=\"T_9d4999ca_e4c1_11ec_b28a_7085c2294e08row5_col2\" class=\"data row5 col2\" >0.0240</td>\n",
       "                        <td id=\"T_9d4999ca_e4c1_11ec_b28a_7085c2294e08row5_col3\" class=\"data row5 col3\" >0.1548</td>\n",
       "                        <td id=\"T_9d4999ca_e4c1_11ec_b28a_7085c2294e08row5_col4\" class=\"data row5 col4\" >0.7465</td>\n",
       "                        <td id=\"T_9d4999ca_e4c1_11ec_b28a_7085c2294e08row5_col5\" class=\"data row5 col5\" >0.1056</td>\n",
       "                        <td id=\"T_9d4999ca_e4c1_11ec_b28a_7085c2294e08row5_col6\" class=\"data row5 col6\" >0.5382</td>\n",
       "                        <td id=\"T_9d4999ca_e4c1_11ec_b28a_7085c2294e08row5_col7\" class=\"data row5 col7\" >0.8060</td>\n",
       "            </tr>\n",
       "            <tr>\n",
       "                        <th id=\"T_9d4999ca_e4c1_11ec_b28a_7085c2294e08level0_row6\" class=\"row_heading level0 row6\" >lasso</th>\n",
       "                        <td id=\"T_9d4999ca_e4c1_11ec_b28a_7085c2294e08row6_col0\" class=\"data row6 col0\" >Lasso Regression</td>\n",
       "                        <td id=\"T_9d4999ca_e4c1_11ec_b28a_7085c2294e08row6_col1\" class=\"data row6 col1\" >0.1263</td>\n",
       "                        <td id=\"T_9d4999ca_e4c1_11ec_b28a_7085c2294e08row6_col2\" class=\"data row6 col2\" >0.0257</td>\n",
       "                        <td id=\"T_9d4999ca_e4c1_11ec_b28a_7085c2294e08row6_col3\" class=\"data row6 col3\" >0.1604</td>\n",
       "                        <td id=\"T_9d4999ca_e4c1_11ec_b28a_7085c2294e08row6_col4\" class=\"data row6 col4\" >0.7277</td>\n",
       "                        <td id=\"T_9d4999ca_e4c1_11ec_b28a_7085c2294e08row6_col5\" class=\"data row6 col5\" >0.1101</td>\n",
       "                        <td id=\"T_9d4999ca_e4c1_11ec_b28a_7085c2294e08row6_col6\" class=\"data row6 col6\" >0.6241</td>\n",
       "                        <td id=\"T_9d4999ca_e4c1_11ec_b28a_7085c2294e08row6_col7\" class=\"data row6 col7\" >1.2760</td>\n",
       "            </tr>\n",
       "            <tr>\n",
       "                        <th id=\"T_9d4999ca_e4c1_11ec_b28a_7085c2294e08level0_row7\" class=\"row_heading level0 row7\" >par</th>\n",
       "                        <td id=\"T_9d4999ca_e4c1_11ec_b28a_7085c2294e08row7_col0\" class=\"data row7 col0\" >Passive Aggressive Regressor</td>\n",
       "                        <td id=\"T_9d4999ca_e4c1_11ec_b28a_7085c2294e08row7_col1\" class=\"data row7 col1\" >0.1286</td>\n",
       "                        <td id=\"T_9d4999ca_e4c1_11ec_b28a_7085c2294e08row7_col2\" class=\"data row7 col2\" >0.0320</td>\n",
       "                        <td id=\"T_9d4999ca_e4c1_11ec_b28a_7085c2294e08row7_col3\" class=\"data row7 col3\" >0.1781</td>\n",
       "                        <td id=\"T_9d4999ca_e4c1_11ec_b28a_7085c2294e08row7_col4\" class=\"data row7 col4\" >0.6617</td>\n",
       "                        <td id=\"T_9d4999ca_e4c1_11ec_b28a_7085c2294e08row7_col5\" class=\"data row7 col5\" >0.1128</td>\n",
       "                        <td id=\"T_9d4999ca_e4c1_11ec_b28a_7085c2294e08row7_col6\" class=\"data row7 col6\" >0.4207</td>\n",
       "                        <td id=\"T_9d4999ca_e4c1_11ec_b28a_7085c2294e08row7_col7\" class=\"data row7 col7\" >6.0280</td>\n",
       "            </tr>\n",
       "            <tr>\n",
       "                        <th id=\"T_9d4999ca_e4c1_11ec_b28a_7085c2294e08level0_row8\" class=\"row_heading level0 row8\" >huber</th>\n",
       "                        <td id=\"T_9d4999ca_e4c1_11ec_b28a_7085c2294e08row8_col0\" class=\"data row8 col0\" >Huber Regressor</td>\n",
       "                        <td id=\"T_9d4999ca_e4c1_11ec_b28a_7085c2294e08row8_col1\" class=\"data row8 col1\" >0.2111</td>\n",
       "                        <td id=\"T_9d4999ca_e4c1_11ec_b28a_7085c2294e08row8_col2\" class=\"data row8 col2\" >0.0916</td>\n",
       "                        <td id=\"T_9d4999ca_e4c1_11ec_b28a_7085c2294e08row8_col3\" class=\"data row8 col3\" >0.2971</td>\n",
       "                        <td id=\"T_9d4999ca_e4c1_11ec_b28a_7085c2294e08row8_col4\" class=\"data row8 col4\" >0.0300</td>\n",
       "                        <td id=\"T_9d4999ca_e4c1_11ec_b28a_7085c2294e08row8_col5\" class=\"data row8 col5\" >0.1713</td>\n",
       "                        <td id=\"T_9d4999ca_e4c1_11ec_b28a_7085c2294e08row8_col6\" class=\"data row8 col6\" >0.8135</td>\n",
       "                        <td id=\"T_9d4999ca_e4c1_11ec_b28a_7085c2294e08row8_col7\" class=\"data row8 col7\" >48.1660</td>\n",
       "            </tr>\n",
       "            <tr>\n",
       "                        <th id=\"T_9d4999ca_e4c1_11ec_b28a_7085c2294e08level0_row9\" class=\"row_heading level0 row9\" >llar</th>\n",
       "                        <td id=\"T_9d4999ca_e4c1_11ec_b28a_7085c2294e08row9_col0\" class=\"data row9 col0\" >Lasso Least Angle Regression</td>\n",
       "                        <td id=\"T_9d4999ca_e4c1_11ec_b28a_7085c2294e08row9_col1\" class=\"data row9 col1\" >0.2679</td>\n",
       "                        <td id=\"T_9d4999ca_e4c1_11ec_b28a_7085c2294e08row9_col2\" class=\"data row9 col2\" >0.0945</td>\n",
       "                        <td id=\"T_9d4999ca_e4c1_11ec_b28a_7085c2294e08row9_col3\" class=\"data row9 col3\" >0.3074</td>\n",
       "                        <td id=\"T_9d4999ca_e4c1_11ec_b28a_7085c2294e08row9_col4\" class=\"data row9 col4\" >-0.0000</td>\n",
       "                        <td id=\"T_9d4999ca_e4c1_11ec_b28a_7085c2294e08row9_col5\" class=\"data row9 col5\" >0.2140</td>\n",
       "                        <td id=\"T_9d4999ca_e4c1_11ec_b28a_7085c2294e08row9_col6\" class=\"data row9 col6\" >1.5351</td>\n",
       "                        <td id=\"T_9d4999ca_e4c1_11ec_b28a_7085c2294e08row9_col7\" class=\"data row9 col7\" >0.8220</td>\n",
       "            </tr>\n",
       "    </tbody></table>"
      ],
      "text/plain": [
       "<pandas.io.formats.style.Styler at 0x15ec57e9d90>"
      ]
     },
     "metadata": {},
     "output_type": "display_data"
    }
   ],
   "source": [
    "top10 = compare_models(sort='MAE', n_select=10, fold=5) "
   ]
  },
  {
   "cell_type": "code",
   "execution_count": null,
   "metadata": {},
   "outputs": [],
   "source": [
    "tuned_top5 = [tune_model(i, fold=5) for i in top10[:5]]"
   ]
  },
  {
   "cell_type": "code",
   "execution_count": null,
   "metadata": {},
   "outputs": [],
   "source": [
    "blender_top5 = blend_models(estimator_list=tuned_top5) "
   ]
  },
  {
   "cell_type": "code",
   "execution_count": null,
   "metadata": {},
   "outputs": [],
   "source": [
    "final_model = finalize_model(blender_top5)\n",
    "prediction = predict_model(final_model, data=test)"
   ]
  },
  {
   "cell_type": "code",
   "execution_count": null,
   "metadata": {},
   "outputs": [],
   "source": [
    "from pycaret.utils import check_metric\n",
    "check_metric(prediction['Target'], prediction['Label'], metric = 'RMSE') "
   ]
  },
  {
   "cell_type": "code",
   "execution_count": null,
   "metadata": {},
   "outputs": [],
   "source": []
  }
 ],
 "metadata": {
  "kernelspec": {
   "display_name": "Python 3",
   "language": "python",
   "name": "python3"
  },
  "language_info": {
   "codemirror_mode": {
    "name": "ipython",
    "version": 3
   },
   "file_extension": ".py",
   "mimetype": "text/x-python",
   "name": "python",
   "nbconvert_exporter": "python",
   "pygments_lexer": "ipython3",
   "version": "3.8.5"
  },
  "toc": {
   "base_numbering": 1,
   "nav_menu": {},
   "number_sections": true,
   "sideBar": true,
   "skip_h1_title": false,
   "title_cell": "Table of Contents",
   "title_sidebar": "Contents",
   "toc_cell": false,
   "toc_position": {},
   "toc_section_display": true,
   "toc_window_display": false
  },
  "varInspector": {
   "cols": {
    "lenName": 16,
    "lenType": 16,
    "lenVar": 40
   },
   "kernels_config": {
    "python": {
     "delete_cmd_postfix": "",
     "delete_cmd_prefix": "del ",
     "library": "var_list.py",
     "varRefreshCmd": "print(var_dic_list())"
    },
    "r": {
     "delete_cmd_postfix": ") ",
     "delete_cmd_prefix": "rm(",
     "library": "var_list.r",
     "varRefreshCmd": "cat(var_dic_list()) "
    }
   },
   "types_to_exclude": [
    "module",
    "function",
    "builtin_function_or_method",
    "instance",
    "_Feature"
   ],
   "window_display": false
  }
 },
 "nbformat": 4,
 "nbformat_minor": 4
}
